{
 "cells": [
  {
   "cell_type": "code",
   "execution_count": 1,
   "id": "05ce37da-7672-4e9b-92fc-642e691ff446",
   "metadata": {},
   "outputs": [],
   "source": [
    "from sklearn.preprocessing import KBinsDiscretizer\n",
    "import numpy as np\n",
    "import time\n",
    "import math\n",
    "import gym\n",
    "from typing import Tuple"
   ]
  },
  {
   "cell_type": "code",
   "execution_count": 2,
   "id": "dc2df5b3-16a3-4ed5-950e-8aca05188df9",
   "metadata": {},
   "outputs": [],
   "source": [
    "env = gym.make('CartPole-v1', render_mode=\"human\")"
   ]
  },
  {
   "cell_type": "code",
   "execution_count": 3,
   "id": "9e380763-d381-4018-8a89-b290bfe5c857",
   "metadata": {},
   "outputs": [],
   "source": [
    "# Configuración para discretizar estados\n",
    "n_bins = (6, 12)  # Número de divisiones para discretizar\n",
    "lower_bounds = [env.observation_space.low[2], -math.radians(50)]\n",
    "upper_bounds = [env.observation_space.high[2], math.radians(50)]\n",
    "\n",
    "# Discretizador de estados\n",
    "def discretizer(_, __, angle, pole_velocity) -> Tuple[int, ...]:\n",
    "    \"\"\"Convierte un estado continuo a un estado discreto.\"\"\"\n",
    "    est = KBinsDiscretizer(n_bins=n_bins, encode='ordinal', strategy='uniform')\n",
    "    est.fit([lower_bounds, upper_bounds])\n",
    "    return tuple(map(int, est.transform([[angle, pole_velocity]])[0]))\n"
   ]
  },
  {
   "cell_type": "code",
   "execution_count": 4,
   "id": "6f23dfac-67f3-4870-8600-16483cc6d9b0",
   "metadata": {},
   "outputs": [],
   "source": [
    "# Inicialización de la tabla Q\n",
    "Q_table = np.zeros(n_bins + (env.action_space.n,))\n",
    "\n",
    "# Política basada en la tabla Q\n",
    "def policy(state: tuple):\n",
    "    \"\"\"Elige una acción basada en la política epsilon-greedy.\"\"\"\n",
    "    return np.argmax(Q_table[state])\n",
    "\n",
    "# Actualización del valor Q usando aprendizaje por diferencias temporales\n",
    "def new_Q_value(reward: float, new_state: tuple, discount_factor=1.0) -> float:\n",
    "    \"\"\"Calcula el nuevo valor Q.\"\"\"\n",
    "    future_optimal_value = np.max(Q_table[new_state])\n",
    "    learned_value = reward + discount_factor * future_optimal_value\n",
    "    return learned_value\n",
    "\n",
    "# Tasa de aprendizaje adaptativa\n",
    "def learning_rate(n: int, min_rate=0.01) -> float:\n",
    "    \"\"\"Calcula una tasa de aprendizaje que decrece con el tiempo.\"\"\"\n",
    "    return max(min_rate, min(1.0, 1.0 - math.log10((n + 1) / 25)))\n",
    "\n",
    "# Tasa de exploración adaptativa\n",
    "def exploration_rate(n: int, min_rate=0.1) -> float:\n",
    "    \"\"\"Calcula una tasa de exploración que decrece con el tiempo.\"\"\"\n",
    "    return max(min_rate, min(1, 1.0 - math.log10((n + 1) / 25)))\n"
   ]
  },
  {
   "cell_type": "code",
   "execution_count": null,
   "id": "a7890658-7729-44be-b5b8-b1e04c0775e1",
   "metadata": {},
   "outputs": [
    {
     "name": "stderr",
     "output_type": "stream",
     "text": [
      "C:\\Python312\\Lib\\site-packages\\gym\\utils\\passive_env_checker.py:233: DeprecationWarning: `np.bool8` is a deprecated alias for `np.bool_`.  (Deprecated NumPy 1.24)\n",
      "  if not isinstance(terminated, (bool, np.bool8)):\n"
     ]
    }
   ],
   "source": [
    "# Parámetros del entrenamiento\n",
    "n_episodes = 10000\n",
    "discount_factor = 0.99  # Factor de descuento para el valor futuro\n",
    "\n",
    "for e in range(n_episodes):\n",
    "    obs, _ = env.reset()\n",
    "    current_state, done = discretizer(*obs), False\n",
    "\n",
    "    while not done:\n",
    "        # Seleccionar acción según la política epsilon-greedy\n",
    "        if np.random.random() < exploration_rate(e):\n",
    "            action = env.action_space.sample()  # Explorar\n",
    "        else:\n",
    "            action = policy(current_state)  # Explotar\n",
    "\n",
    "        # Ejecutar la acción en el entorno\n",
    "        obs, reward, done, _, _ = env.step(action)\n",
    "        new_state = discretizer(*obs)\n",
    "\n",
    "        # Actualizar la tabla Q\n",
    "        lr = learning_rate(e)\n",
    "        learnt_value = new_Q_value(reward, new_state, discount_factor)\n",
    "        old_value = Q_table[current_state][action]\n",
    "        Q_table[current_state][action] = (1 - lr) * old_value + lr * learnt_value\n",
    "\n",
    "        current_state = new_state\n",
    "\n",
    "        # Renderizar el entorno (opcional)\n",
    "        if e % 100 == 0:  # Renderizar solo en episodios seleccionados\n",
    "            env.render()\n",
    "env.close()\n"
   ]
  },
  {
   "cell_type": "code",
   "execution_count": null,
   "id": "840b5938-0064-49e3-8e4c-b901b0a42304",
   "metadata": {},
   "outputs": [],
   "source": []
  },
  {
   "cell_type": "code",
   "execution_count": null,
   "id": "0cc96bee-36d1-43fb-9dd2-83b3ba54c51d",
   "metadata": {},
   "outputs": [],
   "source": []
  }
 ],
 "metadata": {
  "kernelspec": {
   "display_name": "Python 3 (ipykernel)",
   "language": "python",
   "name": "python3"
  },
  "language_info": {
   "codemirror_mode": {
    "name": "ipython",
    "version": 3
   },
   "file_extension": ".py",
   "mimetype": "text/x-python",
   "name": "python",
   "nbconvert_exporter": "python",
   "pygments_lexer": "ipython3",
   "version": "3.12.0"
  }
 },
 "nbformat": 4,
 "nbformat_minor": 5
}
